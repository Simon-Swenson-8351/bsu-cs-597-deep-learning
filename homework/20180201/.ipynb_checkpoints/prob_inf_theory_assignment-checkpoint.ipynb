{
 "cells": [
  {
   "cell_type": "markdown",
   "metadata": {},
   "source": [
    "# Assignment 2 - Elementary Probability and Information Theory \n",
    "# Boise State University DL - Dr. Kennington\n",
    "\n",
    "### Instructions and Hints:\n",
    "\n",
    "* This notebook loads some data into a `pandas` dataframe, then does a small amount of preprocessing. Make sure your data can load by stepping through all of the cells up until question 1. \n",
    "* Most of the questions require you to write some code. In many cases, you will write some kind of probability function like we did in class using the data. \n",
    "* Some of the questions only require you to write answers, so be sure to change the cell type to markdown or raw text\n",
    "* Don't worry about normalizing the text this time (e.g., lowercase, etc.). Just focus on probabilies. \n",
    "* Most questions can be answered in a single cell, but you can make as many additional cells as you need. \n",
    "* When complete, please export as HTML. Follow the instructions on the corresponding assignment Trello card for submitting your assignment. "
   ]
  },
  {
   "cell_type": "code",
   "execution_count": 5,
   "metadata": {
    "collapsed": true
   },
   "outputs": [],
   "source": [
    "import pandas as pd \n",
    "\n",
    "data = pd.read_csv('pnp-train.txt',delimiter='\\t',encoding='latin-1', # utf8 encoding didn't work for this\n",
    "                  names=['type','name']) # supply the column names for the dataframe\n",
    "\n",
    "# this next line creates a new column with the lower-cased first word\n",
    "data['first_word'] = data['name'].map(lambda x: x.lower().split()[0])"
   ]
  },
  {
   "cell_type": "code",
   "execution_count": 2,
   "metadata": {},
   "outputs": [
    {
     "data": {
      "text/html": [
       "<div>\n",
       "<style scoped>\n",
       "    .dataframe tbody tr th:only-of-type {\n",
       "        vertical-align: middle;\n",
       "    }\n",
       "\n",
       "    .dataframe tbody tr th {\n",
       "        vertical-align: top;\n",
       "    }\n",
       "\n",
       "    .dataframe thead th {\n",
       "        text-align: right;\n",
       "    }\n",
       "</style>\n",
       "<table border=\"1\" class=\"dataframe\">\n",
       "  <thead>\n",
       "    <tr style=\"text-align: right;\">\n",
       "      <th></th>\n",
       "      <th>type</th>\n",
       "      <th>name</th>\n",
       "      <th>first_word</th>\n",
       "    </tr>\n",
       "  </thead>\n",
       "  <tbody>\n",
       "    <tr>\n",
       "      <th>0</th>\n",
       "      <td>drug</td>\n",
       "      <td>Dilotab</td>\n",
       "      <td>dilotab</td>\n",
       "    </tr>\n",
       "    <tr>\n",
       "      <th>1</th>\n",
       "      <td>movie</td>\n",
       "      <td>Beastie Boys: Live in Glasgow</td>\n",
       "      <td>beastie</td>\n",
       "    </tr>\n",
       "    <tr>\n",
       "      <th>2</th>\n",
       "      <td>person</td>\n",
       "      <td>Michelle Ford-Eriksson</td>\n",
       "      <td>michelle</td>\n",
       "    </tr>\n",
       "    <tr>\n",
       "      <th>3</th>\n",
       "      <td>place</td>\n",
       "      <td>Ramsbury</td>\n",
       "      <td>ramsbury</td>\n",
       "    </tr>\n",
       "    <tr>\n",
       "      <th>4</th>\n",
       "      <td>place</td>\n",
       "      <td>Market Bosworth</td>\n",
       "      <td>market</td>\n",
       "    </tr>\n",
       "    <tr>\n",
       "      <th>5</th>\n",
       "      <td>drug</td>\n",
       "      <td>Cyanide Antidote Package</td>\n",
       "      <td>cyanide</td>\n",
       "    </tr>\n",
       "    <tr>\n",
       "      <th>6</th>\n",
       "      <td>person</td>\n",
       "      <td>Bill Johnson</td>\n",
       "      <td>bill</td>\n",
       "    </tr>\n",
       "    <tr>\n",
       "      <th>7</th>\n",
       "      <td>place</td>\n",
       "      <td>Ettalong</td>\n",
       "      <td>ettalong</td>\n",
       "    </tr>\n",
       "    <tr>\n",
       "      <th>8</th>\n",
       "      <td>movie</td>\n",
       "      <td>The Suicide Club</td>\n",
       "      <td>the</td>\n",
       "    </tr>\n",
       "    <tr>\n",
       "      <th>9</th>\n",
       "      <td>place</td>\n",
       "      <td>Pézenas</td>\n",
       "      <td>pézenas</td>\n",
       "    </tr>\n",
       "  </tbody>\n",
       "</table>\n",
       "</div>"
      ],
      "text/plain": [
       "     type                           name first_word\n",
       "0    drug                        Dilotab    dilotab\n",
       "1   movie  Beastie Boys: Live in Glasgow    beastie\n",
       "2  person         Michelle Ford-Eriksson   michelle\n",
       "3   place                       Ramsbury   ramsbury\n",
       "4   place                Market Bosworth     market\n",
       "5    drug       Cyanide Antidote Package    cyanide\n",
       "6  person                   Bill Johnson       bill\n",
       "7   place                       Ettalong   ettalong\n",
       "8   movie               The Suicide Club        the\n",
       "9   place                        Pézenas    pézenas"
      ]
     },
     "execution_count": 2,
     "metadata": {},
     "output_type": "execute_result"
    }
   ],
   "source": [
    "data[:10]"
   ]
  },
  {
   "cell_type": "code",
   "execution_count": 3,
   "metadata": {},
   "outputs": [
    {
     "data": {
      "text/html": [
       "<div>\n",
       "<style scoped>\n",
       "    .dataframe tbody tr th:only-of-type {\n",
       "        vertical-align: middle;\n",
       "    }\n",
       "\n",
       "    .dataframe tbody tr th {\n",
       "        vertical-align: top;\n",
       "    }\n",
       "\n",
       "    .dataframe thead th {\n",
       "        text-align: right;\n",
       "    }\n",
       "</style>\n",
       "<table border=\"1\" class=\"dataframe\">\n",
       "  <thead>\n",
       "    <tr style=\"text-align: right;\">\n",
       "      <th></th>\n",
       "      <th>type</th>\n",
       "      <th>name</th>\n",
       "      <th>first_word</th>\n",
       "    </tr>\n",
       "  </thead>\n",
       "  <tbody>\n",
       "    <tr>\n",
       "      <th>count</th>\n",
       "      <td>21001</td>\n",
       "      <td>21001</td>\n",
       "      <td>21001</td>\n",
       "    </tr>\n",
       "    <tr>\n",
       "      <th>unique</th>\n",
       "      <td>5</td>\n",
       "      <td>20992</td>\n",
       "      <td>13703</td>\n",
       "    </tr>\n",
       "    <tr>\n",
       "      <th>top</th>\n",
       "      <td>movie</td>\n",
       "      <td>Epinal</td>\n",
       "      <td>the</td>\n",
       "    </tr>\n",
       "    <tr>\n",
       "      <th>freq</th>\n",
       "      <td>6262</td>\n",
       "      <td>2</td>\n",
       "      <td>635</td>\n",
       "    </tr>\n",
       "  </tbody>\n",
       "</table>\n",
       "</div>"
      ],
      "text/plain": [
       "         type    name first_word\n",
       "count   21001   21001      21001\n",
       "unique      5   20992      13703\n",
       "top     movie  Epinal        the\n",
       "freq     6262       2        635"
      ]
     },
     "execution_count": 3,
     "metadata": {},
     "output_type": "execute_result"
    }
   ],
   "source": [
    "data.describe()"
   ]
  },
  {
   "cell_type": "markdown",
   "metadata": {},
   "source": [
    "## 1. Write a probability function/distribution $P(T)$ over the types. \n",
    "\n",
    "Hints:\n",
    "\n",
    "* The Counter library might be useful: `from collections import Counter`\n",
    "* Write a function `def P(T='')` that returns the probability of the specific value for T\n",
    "* You can access the types from the dataframe by calling `data['type']`"
   ]
  },
  {
   "cell_type": "code",
   "execution_count": 4,
   "metadata": {
    "collapsed": true
   },
   "outputs": [],
   "source": [
    "from collections import Counter\n",
    "        \n",
    "def P(T = ''):\n",
    "    # This is a way to make static local variables.\n",
    "    if P.counter == None:\n",
    "        P.counter = Counter()\n",
    "        for ttype in data['type']:\n",
    "            P.counter[ttype] += 1\n",
    "    return float(P.counter[T]) / float(data.count()[0])\n",
    "P.counter = None"
   ]
  },
  {
   "cell_type": "markdown",
   "metadata": {},
   "source": [
    "## 2. What is `P(T='movie')` ?"
   ]
  },
  {
   "cell_type": "code",
   "execution_count": 5,
   "metadata": {},
   "outputs": [
    {
     "data": {
      "text/plain": [
       "0.29817627732012764"
      ]
     },
     "execution_count": 5,
     "metadata": {},
     "output_type": "execute_result"
    }
   ],
   "source": [
    "# expected 0.29817627732012764\n",
    "P('movie')"
   ]
  },
  {
   "cell_type": "markdown",
   "metadata": {},
   "source": [
    "## 3. Show that your probability distribution sums to one."
   ]
  },
  {
   "cell_type": "code",
   "execution_count": 6,
   "metadata": {},
   "outputs": [
    {
     "data": {
      "text/plain": [
       "1.0"
      ]
     },
     "execution_count": 6,
     "metadata": {},
     "output_type": "execute_result"
    }
   ],
   "source": [
    "import numpy as np\n",
    "np.sum([P(x) for x in P.counter])"
   ]
  },
  {
   "cell_type": "markdown",
   "metadata": {},
   "source": [
    "## 4. Write a joint distribution using the type and the first word of the name\n",
    "\n",
    "Hints:\n",
    "\n",
    "* The function is $P2(T,W_1)$\n",
    "* You will need to count up types AND the first words, for example: ('person','bill)\n",
    "* Using the zip function was useful for me here"
   ]
  },
  {
   "cell_type": "code",
   "execution_count": 7,
   "metadata": {
    "collapsed": true
   },
   "outputs": [],
   "source": [
    "def P2(T = '', W1 = ''):\n",
    "    if P2.counter == None:\n",
    "        P2.counter = Counter()\n",
    "        iterator = zip(data['type'], data['first_word'])\n",
    "        for i in iterator:\n",
    "            P2.counter[i] += 1\n",
    "    return float(P2.counter[(T, W1)]) / float(data.count()[0])\n",
    "P2.counter = None"
   ]
  },
  {
   "cell_type": "markdown",
   "metadata": {},
   "source": [
    "## 5. What is P2(T='person', W1='bill')? What about P2(T='movie',W1='the')?"
   ]
  },
  {
   "cell_type": "code",
   "execution_count": 8,
   "metadata": {},
   "outputs": [
    {
     "data": {
      "text/plain": [
       "0.00047616780153326033"
      ]
     },
     "execution_count": 8,
     "metadata": {},
     "output_type": "execute_result"
    }
   ],
   "source": [
    "# expected: 0.00047616780153326033\n",
    "P2(T='person', W1='bill')"
   ]
  },
  {
   "cell_type": "code",
   "execution_count": 9,
   "metadata": {},
   "outputs": [
    {
     "data": {
      "text/plain": [
       "0.02747488214846912"
      ]
     },
     "execution_count": 9,
     "metadata": {},
     "output_type": "execute_result"
    }
   ],
   "source": [
    "# expected: 0.02747488214846912\n",
    "P2(T='movie',W1='the')"
   ]
  },
  {
   "cell_type": "markdown",
   "metadata": {},
   "source": [
    "## 6. Show that your probability distribution P(T,W1) sums to one."
   ]
  },
  {
   "cell_type": "code",
   "execution_count": 10,
   "metadata": {},
   "outputs": [
    {
     "data": {
      "text/plain": [
       "1.0"
      ]
     },
     "execution_count": 10,
     "metadata": {},
     "output_type": "execute_result"
    }
   ],
   "source": [
    "# This is where it starts getting slow to run. I think Python's map lookup could be faster,\n",
    "# or maybe I haven't picked the most efficient method to implement the P2 function.\n",
    "\n",
    "# If it isn't in the counter, don't bother because the probability will be 0.\n",
    "np.sum([P2(ttype, first_word) for (ttype, first_word) in P2.counter])"
   ]
  },
  {
   "cell_type": "markdown",
   "metadata": {},
   "source": [
    "## 7. Make a new function Q(T) from marginalizing over P(T,W1) and make sure that Q(T) sums to one.\n",
    "\n",
    "Hints:\n",
    "\n",
    "* Your Q function will call P(T,W1)\n",
    "* Your check for the sum to one should be the same answer as Question 3, only it calls Q instead of P."
   ]
  },
  {
   "cell_type": "code",
   "execution_count": 11,
   "metadata": {
    "collapsed": true
   },
   "outputs": [],
   "source": [
    "def Q(T = ''):\n",
    "    return np.sum([P2(T, first_word) for first_word in data['first_word'].unique()])"
   ]
  },
  {
   "cell_type": "code",
   "execution_count": 12,
   "metadata": {},
   "outputs": [
    {
     "data": {
      "text/plain": [
       "0.29817627732012764"
      ]
     },
     "execution_count": 12,
     "metadata": {},
     "output_type": "execute_result"
    }
   ],
   "source": [
    "# expected 0.2981762773201236\n",
    "Q(T = 'movie')"
   ]
  },
  {
   "cell_type": "code",
   "execution_count": 13,
   "metadata": {},
   "outputs": [
    {
     "data": {
      "text/plain": [
       "1.0"
      ]
     },
     "execution_count": 13,
     "metadata": {},
     "output_type": "execute_result"
    }
   ],
   "source": [
    "# expected 1.0\n",
    "np.sum([Q(ttype) for ttype in data['type'].unique()])"
   ]
  },
  {
   "cell_type": "markdown",
   "metadata": {},
   "source": [
    "## 8. What is the KL Divergence of your Q function and your P function for Question 1?\n",
    "\n",
    "* Even if you know the answer, you still need to write code that computes it."
   ]
  },
  {
   "cell_type": "code",
   "execution_count": 14,
   "metadata": {},
   "outputs": [
    {
     "data": {
      "text/plain": [
       "0.0"
      ]
     },
     "execution_count": 14,
     "metadata": {},
     "output_type": "execute_result"
    }
   ],
   "source": [
    "# expected -0.0\n",
    "import math\n",
    "np.sum([P(ttype) * (math.log(P(ttype)) - math.log(Q(ttype))) for ttype in data['type'].unique()])"
   ]
  },
  {
   "cell_type": "markdown",
   "metadata": {},
   "source": [
    "## 9. Convert from P(T,W1) to P(W1|T) \n",
    "\n",
    "Hints:\n",
    "\n",
    "* Just write a comment cell, no code this time. \n",
    "* Note that $P(T,W1) = P(W1,T)$"
   ]
  },
  {
   "cell_type": "markdown",
   "metadata": {},
   "source": [
    "## $P(W_1|T) = \\frac{P(W_1,T)}{P(T)}$"
   ]
  },
  {
   "cell_type": "markdown",
   "metadata": {},
   "source": [
    "## 10. Write a function `Pwt` (that calls the functions you already have) to compute $P(W_1|T)$.\n",
    "\n",
    "* This will be something like the multiplication rule, but you may need to change something"
   ]
  },
  {
   "cell_type": "code",
   "execution_count": 15,
   "metadata": {
    "collapsed": true
   },
   "outputs": [],
   "source": [
    "def Pwt(W1 = '', T = ''):\n",
    "    return P2(W1 = W1, T = T) / P(T = T)"
   ]
  },
  {
   "cell_type": "markdown",
   "metadata": {},
   "source": [
    "## 11. What is P(W1='the'|T='movie')?"
   ]
  },
  {
   "cell_type": "code",
   "execution_count": 16,
   "metadata": {},
   "outputs": [
    {
     "data": {
      "text/plain": [
       "0.09214308527626956"
      ]
     },
     "execution_count": 16,
     "metadata": {},
     "output_type": "execute_result"
    }
   ],
   "source": [
    "# expected 0.09214308527626956\n",
    "# This means about 9% of movies in the dataset start with the word \"the.\"\n",
    "Pwt(W1 = 'the', T = 'movie')"
   ]
  },
  {
   "cell_type": "markdown",
   "metadata": {},
   "source": [
    "## 12. Use Baye's rule to convert from P(W1|T) to P(T|W1). Write a function Ptw to reflect this. \n",
    "\n",
    "Hints:\n",
    "\n",
    "* Call your other functions.\n",
    "* You may need to write a function for P(W1) and you may need a new counter for `data['first_word']`"
   ]
  },
  {
   "cell_type": "code",
   "execution_count": 17,
   "metadata": {
    "collapsed": true
   },
   "outputs": [],
   "source": [
    "def Ptw(T = '', W1 = ''):\n",
    "    if Ptw.counter == None:\n",
    "        Ptw.counter = Counter()\n",
    "        for first_word in data['first_word']:\n",
    "            Ptw.counter[first_word] += 1\n",
    "    P_W1 = float(Ptw.counter[W1]) / float(data.count()[0])\n",
    "    return (Pwt(W1 = W1, T = T) * P(T = T)) / P_W1\n",
    "Ptw.counter = None"
   ]
  },
  {
   "cell_type": "markdown",
   "metadata": {},
   "source": [
    "## 13 \n",
    "### What is P(T='movie'|W1='the')? \n",
    "### What about P(T='person'|W1='the')?\n",
    "### What about P(T='drug'|W1='the')?\n",
    "### What about P(T='place'|W1='the')\n",
    "### What about P(T='company'|W1='the')"
   ]
  },
  {
   "cell_type": "code",
   "execution_count": 18,
   "metadata": {},
   "outputs": [
    {
     "data": {
      "text/plain": [
       "0.9086614173228347"
      ]
     },
     "execution_count": 18,
     "metadata": {},
     "output_type": "execute_result"
    }
   ],
   "source": [
    "# This means that about 90% of the entries starting with \"the\" are movies.\n",
    "Ptw(T = 'movie', W1 = 'the')"
   ]
  },
  {
   "cell_type": "code",
   "execution_count": 19,
   "metadata": {},
   "outputs": [
    {
     "data": {
      "text/plain": [
       "0.0"
      ]
     },
     "execution_count": 19,
     "metadata": {},
     "output_type": "execute_result"
    }
   ],
   "source": [
    "Ptw(T = 'person', W1 = 'the')"
   ]
  },
  {
   "cell_type": "code",
   "execution_count": 20,
   "metadata": {},
   "outputs": [
    {
     "data": {
      "text/plain": [
       "0.0"
      ]
     },
     "execution_count": 20,
     "metadata": {},
     "output_type": "execute_result"
    }
   ],
   "source": [
    "Ptw(T = 'drug', W1 = 'the')"
   ]
  },
  {
   "cell_type": "code",
   "execution_count": 21,
   "metadata": {},
   "outputs": [
    {
     "data": {
      "text/plain": [
       "0.0015748031496062992"
      ]
     },
     "execution_count": 21,
     "metadata": {},
     "output_type": "execute_result"
    }
   ],
   "source": [
    "Ptw(T = 'place', W1 = 'the')"
   ]
  },
  {
   "cell_type": "code",
   "execution_count": 22,
   "metadata": {},
   "outputs": [
    {
     "data": {
      "text/plain": [
       "0.08976377952755905"
      ]
     },
     "execution_count": 22,
     "metadata": {},
     "output_type": "execute_result"
    }
   ],
   "source": [
    "Ptw(T = 'company', W1 = 'the')"
   ]
  },
  {
   "cell_type": "markdown",
   "metadata": {},
   "source": [
    "## 14 Given this, if the word 'the' is found in a name, what is the most likely type?"
   ]
  },
  {
   "cell_type": "markdown",
   "metadata": {
    "collapsed": true
   },
   "source": [
    "movie"
   ]
  },
  {
   "cell_type": "markdown",
   "metadata": {},
   "source": [
    "## 15. Is Ptw(T='movie'|W1='the') the same as Pwt(W1='the'|T='movie') the same? Why or why not?"
   ]
  },
  {
   "cell_type": "markdown",
   "metadata": {},
   "source": [
    "No. The first function is answering the question, \"If we encounter a name with the first word 'the,' what is the chance that that entry will be a movie?\" and the second function is answering the question, \"If we encounter a movie, what is the chance that its name will start with the word 'the'?\" They are two different questions, and they consider different portions of the table. To see why that is, we can outline a way to do the functions without using the formulae above. To implement the first function, consider only the entries of the data with names that start with \"the,\" then find the probability of \"movie\" being the type **with respect to only entries with names that start with \"the.\"** To implement the second function, consider only the entries of the data whose type is \"movie,\" then find the probability of \"the\" being the first word, **with respect to only entries with type \"movie.\"**"
   ]
  },
  {
   "cell_type": "markdown",
   "metadata": {
    "collapsed": true
   },
   "source": [
    "## 16. Do you think modeling Ptw(T|W1) would be better with a continuous function like a Gaussian? Why or why not?"
   ]
  },
  {
   "cell_type": "markdown",
   "metadata": {},
   "source": [
    "How would you map the discrete words to continuous real numbers? It doesn't make much sense, and I don't think it would be a good idea."
   ]
  },
  {
   "cell_type": "markdown",
   "metadata": {},
   "source": [
    "## 17. Determine the right probability distribution\n",
    "\n",
    "* Load the `rivers.csv` file and print out a histogram\n",
    "* Which disitrbutions do you think would fit the data for the `x` column? Here is a list: https://en.wikipedia.org/wiki/Category:Continuous_distributions\n",
    "* Hint: look at some of the exponential distributions, and maybe the Pareto\n",
    "* Use the principle of Maximum Entropy to detemrine which of the two distributions would best fit your data (you can sum over all values in your data)\n",
    "* You will need to estimate the parameters needed for each distribution (you may need to write maximum likelihood estimation functions for estimating your parameters)\n",
    "* You can use built-in python functions to model the distribution, if they exist. Otherwise, you may need to write your own\n",
    "* Show the Maximum Entropy calculations. \n",
    "* Calculate the KL divergence on the two distributions\n",
    "* make nice markdown commments so I know where everything is"
   ]
  },
  {
   "cell_type": "code",
   "execution_count": 6,
   "metadata": {
    "collapsed": true
   },
   "outputs": [],
   "source": [
    "%matplotlib inline  \n",
    "\n",
    "import matplotlib.pyplot as plt"
   ]
  },
  {
   "cell_type": "code",
   "execution_count": 7,
   "metadata": {},
   "outputs": [],
   "source": [
    "data = pd.read_csv('rivers.csv') "
   ]
  },
  {
   "cell_type": "code",
   "execution_count": 8,
   "metadata": {},
   "outputs": [
    {
     "data": {
      "text/html": [
       "<div>\n",
       "<style scoped>\n",
       "    .dataframe tbody tr th:only-of-type {\n",
       "        vertical-align: middle;\n",
       "    }\n",
       "\n",
       "    .dataframe tbody tr th {\n",
       "        vertical-align: top;\n",
       "    }\n",
       "\n",
       "    .dataframe thead th {\n",
       "        text-align: right;\n",
       "    }\n",
       "</style>\n",
       "<table border=\"1\" class=\"dataframe\">\n",
       "  <thead>\n",
       "    <tr style=\"text-align: right;\">\n",
       "      <th></th>\n",
       "      <th>Unnamed: 0</th>\n",
       "      <th>x</th>\n",
       "    </tr>\n",
       "  </thead>\n",
       "  <tbody>\n",
       "    <tr>\n",
       "      <th>count</th>\n",
       "      <td>141.000000</td>\n",
       "      <td>141.000000</td>\n",
       "    </tr>\n",
       "    <tr>\n",
       "      <th>mean</th>\n",
       "      <td>71.000000</td>\n",
       "      <td>591.184397</td>\n",
       "    </tr>\n",
       "    <tr>\n",
       "      <th>std</th>\n",
       "      <td>40.847277</td>\n",
       "      <td>493.870842</td>\n",
       "    </tr>\n",
       "    <tr>\n",
       "      <th>min</th>\n",
       "      <td>1.000000</td>\n",
       "      <td>135.000000</td>\n",
       "    </tr>\n",
       "    <tr>\n",
       "      <th>25%</th>\n",
       "      <td>36.000000</td>\n",
       "      <td>310.000000</td>\n",
       "    </tr>\n",
       "    <tr>\n",
       "      <th>50%</th>\n",
       "      <td>71.000000</td>\n",
       "      <td>425.000000</td>\n",
       "    </tr>\n",
       "    <tr>\n",
       "      <th>75%</th>\n",
       "      <td>106.000000</td>\n",
       "      <td>680.000000</td>\n",
       "    </tr>\n",
       "    <tr>\n",
       "      <th>max</th>\n",
       "      <td>141.000000</td>\n",
       "      <td>3710.000000</td>\n",
       "    </tr>\n",
       "  </tbody>\n",
       "</table>\n",
       "</div>"
      ],
      "text/plain": [
       "       Unnamed: 0            x\n",
       "count  141.000000   141.000000\n",
       "mean    71.000000   591.184397\n",
       "std     40.847277   493.870842\n",
       "min      1.000000   135.000000\n",
       "25%     36.000000   310.000000\n",
       "50%     71.000000   425.000000\n",
       "75%    106.000000   680.000000\n",
       "max    141.000000  3710.000000"
      ]
     },
     "execution_count": 8,
     "metadata": {},
     "output_type": "execute_result"
    }
   ],
   "source": [
    "data.describe()"
   ]
  },
  {
   "cell_type": "code",
   "execution_count": 9,
   "metadata": {},
   "outputs": [
    {
     "data": {
      "text/plain": [
       "<matplotlib.axes._subplots.AxesSubplot at 0x7f13171a4da0>"
      ]
     },
     "execution_count": 9,
     "metadata": {},
     "output_type": "execute_result"
    },
    {
     "data": {
      "image/png": "[encoded data removed]",
      "text/plain": [
       "<matplotlib.figure.Figure at 0x7f1346d39a20>"
      ]
     },
     "metadata": {},
     "output_type": "display_data"
    }
   ],
   "source": [
    "data.x.hist()"
   ]
  },
  {
   "cell_type": "code",
   "execution_count": 24,
   "metadata": {},
   "outputs": [
    {
     "data": {
      "text/plain": [
       "[<matplotlib.lines.Line2D at 0x7f1316f924a8>]"
      ]
     },
     "execution_count": 24,
     "metadata": {},
     "output_type": "execute_result"
    },
    {
     "data": {
      "image/png": "[encoded data removed]",
      "text/plain": [
       "<matplotlib.figure.Figure at 0x7f131708fc18>"
      ]
     },
     "metadata": {},
     "output_type": "display_data"
    }
   ],
   "source": [
    "import numpy as np\n",
    "\n",
    "# Let's try an exponential distribution\n",
    "# Wikipedia says the maximum likelihood estimate is the following:\n",
    "# lambda_hat = n / sum(x_i, i, 1, n)\n",
    "def river_exp(x):\n",
    "    if river_exp.lambda_hat == None:\n",
    "        river_exp.lambda_hat = float(data.count()[0]) / np.sum([cur for cur in data['x']])\n",
    "    return river_exp.lambda_hat * (math.e ** (-river_exp.lambda_hat * x))\n",
    "river_exp.lambda_hat = None\n",
    "\n",
    "x = np.arange(0, 3500, 0.1)\n",
    "y = [river_exp(i) for i in x]\n",
    "\n",
    "plt.plot(x, y)\n"
   ]
  },
  {
   "cell_type": "code",
   "execution_count": 14,
   "metadata": {},
   "outputs": [
    {
     "data": {
      "text/plain": [
       "[<matplotlib.lines.Line2D at 0x7f1316faadd8>]"
      ]
     },
     "execution_count": 14,
     "metadata": {},
     "output_type": "execute_result"
    },
    {
     "data": {
      "image/png": "[encoded data removed]",
      "text/plain": [
       "<matplotlib.figure.Figure at 0x7f1317105748>"
      ]
     },
     "metadata": {},
     "output_type": "display_data"
    }
   ],
   "source": [
    "# Let's try a Pareto distribution.\n",
    "# Wikipedia says the maximum likelihood estimate is the following:\n",
    "# x_m_hat = min(x_i)\n",
    "# alpha_hat = n / (sum(ln(x_i) - ln(x_m_hat), i, 1, n))\n",
    "# PDF = (alpha * x_m ^ alpha) / (x ^ (alpha + 1))\n",
    "def river_pareto(x):\n",
    "    if river_pareto.x_m_hat == None:\n",
    "        river_pareto.x_m_hat = data['x'].min()\n",
    "        x_m_hat_log = math.log(river_pareto.x_m_hat)\n",
    "        river_pareto.alpha_hat = float(data.count()[0]) / np.sum([math.log(cur) - x_m_hat_log for cur in data['x']])\n",
    "    # Undefined for x < x_m_hat\n",
    "    if x < river_pareto.x_m_hat:\n",
    "        raise ValueError('Pareto is only defined for x >= x_m. Expected x >= ' + str(river_pareto.x_m_hat) + \". Got x = \" + str(x))\n",
    "    return (river_pareto.alpha_hat * float(river_pareto.x_m_hat) ** river_pareto.alpha_hat) / (x ** (river_pareto.alpha_hat + 1))\n",
    "river_pareto.x_m_hat = None\n",
    "river_pareto.alpha_hat = None\n",
    "\n",
    "x = np.arange(135, 3500, 0.1)\n",
    "y = [river_pareto(i) for i in x]\n",
    "\n",
    "plt.plot(x, y)"
   ]
  },
  {
   "cell_type": "code",
   "execution_count": 15,
   "metadata": {
    "collapsed": true
   },
   "outputs": [],
   "source": [
    "def entropy(function, samples):\n",
    "    return -np.sum([function(cur) * math.log(function(cur)) for cur in samples])"
   ]
  },
  {
   "cell_type": "code",
   "execution_count": 16,
   "metadata": {},
   "outputs": [
    {
     "data": {
      "text/plain": [
       "0.7503477738108656"
      ]
     },
     "execution_count": 16,
     "metadata": {},
     "output_type": "execute_result"
    }
   ],
   "source": [
    "entropy(river_exp, data['x'])"
   ]
  },
  {
   "cell_type": "code",
   "execution_count": 17,
   "metadata": {},
   "outputs": [
    {
     "data": {
      "text/plain": [
       "0.8625268286684447"
      ]
     },
     "execution_count": 17,
     "metadata": {},
     "output_type": "execute_result"
    }
   ],
   "source": [
    "entropy(river_pareto, data['x'])"
   ]
  },
  {
   "cell_type": "markdown",
   "metadata": {},
   "source": [
    "By the law of maximum entropy, it appears that the pareto distribution is a better fit for this data than the exponential distribution"
   ]
  },
  {
   "cell_type": "code",
   "execution_count": 21,
   "metadata": {
    "collapsed": true
   },
   "outputs": [],
   "source": [
    "def k_l_div(function_1, function_2, samples):\n",
    "    return np.sum([function_1(cur) * (math.log(function_1(cur)) - math.log(function_2(cur))) for cur in data['x']])"
   ]
  },
  {
   "cell_type": "code",
   "execution_count": 22,
   "metadata": {},
   "outputs": [
    {
     "data": {
      "text/plain": [
       "-0.011136467118415927"
      ]
     },
     "execution_count": 22,
     "metadata": {},
     "output_type": "execute_result"
    }
   ],
   "source": [
    "# The result indicates that the exponential distribution is less entropic compared to the pareto distribution\n",
    "k_l_div(river_exp, river_pareto, data['x'])"
   ]
  },
  {
   "cell_type": "code",
   "execution_count": 23,
   "metadata": {},
   "outputs": [
    {
     "data": {
      "text/plain": [
       "0.03843558643689944"
      ]
     },
     "execution_count": 23,
     "metadata": {},
     "output_type": "execute_result"
    }
   ],
   "source": [
    "# The result indicates that the pareto distribution is more entropic compared to the exponential distribution\n",
    "k_l_div(river_pareto, river_exp, data['x'])"
   ]
  },
  {
   "cell_type": "markdown",
   "metadata": {},
   "source": [
    "As expected, the relative entropy (K-L Div.) of the pareto distribution w.r.t. the exponential distribution is positive, and the relative entropy of the exponential distribution w.r.t. the pareto distribution is negative."
   ]
  }
 ],
 "metadata": {
  "kernelspec": {
   "display_name": "Python 3",
   "language": "python",
   "name": "python3"
  },
  "language_info": {
   "codemirror_mode": {
    "name": "ipython",
    "version": 3
   },
   "file_extension": ".py",
   "mimetype": "text/x-python",
   "name": "python",
   "nbconvert_exporter": "python",
   "pygments_lexer": "ipython3",
   "version": "3.6.4"
  }
 },
 "nbformat": 4,
 "nbformat_minor": 1
}
