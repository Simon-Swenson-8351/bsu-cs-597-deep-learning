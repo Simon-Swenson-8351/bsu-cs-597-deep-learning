{
 "cells": [
  {
   "cell_type": "markdown",
   "metadata": {},
   "source": [
    "### from https://github.com/fchollet/keras/blob/master/examples/mnist_mlp.py"
   ]
  },
  {
   "cell_type": "code",
   "execution_count": 5,
   "metadata": {
    "collapsed": true
   },
   "outputs": [],
   "source": [
    "from __future__ import print_function\n",
    "import numpy as np\n",
    "np.random.seed(1337)  # for reproducibility\n",
    "\n",
    "import keras\n",
    "from keras.datasets import mnist\n",
    "from keras.models import Sequential\n",
    "from keras.layers.core import Dense, Dropout, Activation\n",
    "from keras.optimizers import RMSprop\n",
    "from keras.utils import np_utils"
   ]
  },
  {
   "cell_type": "code",
   "execution_count": 8,
   "metadata": {},
   "outputs": [
    {
     "data": {
      "text/plain": [
       "(60000, 28, 28)"
      ]
     },
     "execution_count": 8,
     "metadata": {},
     "output_type": "execute_result"
    }
   ],
   "source": [
    "from keras.datasets import mnist\n",
    "\n",
    "(X_train, y_train), (X_test, y_test) = mnist.load_data()\n",
    "\n",
    "X_train.shape"
   ]
  },
  {
   "cell_type": "code",
   "execution_count": null,
   "metadata": {},
   "outputs": [],
   "source": [
    "batch_size = 128\n",
    "nb_classes = 10\n",
    "nb_epoch = 20\n",
    "\n",
    "X_train = X_train.reshape(60000, 784)\n",
    "X_test = X_test.reshape(10000, 784)\n",
    "X_train = X_train.astype('float32')\n",
    "X_test = X_test.astype('float32')\n",
    "X_train /= 255\n",
    "X_test /= 255\n",
    "print(X_train.shape[0], 'train samples')\n",
    "print(X_test.shape[0], 'test samples')\n",
    "\n",
    "# convert class vectors to binary class matrices\n",
    "# convert class vectors to binary class matrices\n",
    "y_train = keras.utils.to_categorical(y_train, num_classes)\n",
    "y_test = keras.utils.to_categorical(y_test, num_classes)\n"
   ]
  },
  {
   "cell_type": "code",
   "execution_count": null,
   "metadata": {},
   "outputs": [],
   "source": [
    "model = Sequential()\n",
    "model.add(Dense(512, input_shape=(784,)))\n",
    "model.add(Activation('relu'))\n",
    "model.add(Dropout(0.2))\n",
    "model.add(Dense(512))\n",
    "model.add(Activation('relu'))\n",
    "model.add(Dropout(0.2))\n",
    "model.add(Dense(10))\n",
    "model.add(Activation('softmax'))\n",
    "\n",
    "model.summary()"
   ]
  },
  {
   "cell_type": "code",
   "execution_count": 5,
   "metadata": {
    "collapsed": true
   },
   "outputs": [],
   "source": [
    "model.compile(loss='categorical_crossentropy',\n",
    "              optimizer=RMSprop(),\n",
    "              metrics=['accuracy'])"
   ]
  },
  {
   "cell_type": "code",
   "execution_count": 6,
   "metadata": {},
   "outputs": [
    {
     "name": "stdout",
     "output_type": "stream",
     "text": [
      "Train on 60000 samples, validate on 10000 samples\n",
      "Epoch 1/20\n",
      "60000/60000 [==============================] - 63s - loss: 0.2460 - acc: 0.9240 - val_loss: 0.1091 - val_acc: 0.9648\n",
      "Epoch 2/20\n",
      "60000/60000 [==============================] - 2s - loss: 0.1032 - acc: 0.9692 - val_loss: 0.0790 - val_acc: 0.9760\n",
      "Epoch 3/20\n",
      "60000/60000 [==============================] - 2s - loss: 0.0757 - acc: 0.9768 - val_loss: 0.0856 - val_acc: 0.9742\n",
      "Epoch 4/20\n",
      "60000/60000 [==============================] - 2s - loss: 0.0601 - acc: 0.9817 - val_loss: 0.0742 - val_acc: 0.9790\n",
      "Epoch 5/20\n",
      "60000/60000 [==============================] - 2s - loss: 0.0502 - acc: 0.9848 - val_loss: 0.0874 - val_acc: 0.9783\n",
      "Epoch 6/20\n",
      "60000/60000 [==============================] - 2s - loss: 0.0440 - acc: 0.9866 - val_loss: 0.0830 - val_acc: 0.9799\n",
      "Epoch 7/20\n",
      "60000/60000 [==============================] - 2s - loss: 0.0387 - acc: 0.9887 - val_loss: 0.0875 - val_acc: 0.9780\n",
      "Epoch 8/20\n",
      "60000/60000 [==============================] - 2s - loss: 0.0343 - acc: 0.9900 - val_loss: 0.0784 - val_acc: 0.9825\n",
      "Epoch 9/20\n",
      "60000/60000 [==============================] - 2s - loss: 0.0306 - acc: 0.9917 - val_loss: 0.0878 - val_acc: 0.9808\n",
      "Epoch 10/20\n",
      "60000/60000 [==============================] - 2s - loss: 0.0289 - acc: 0.9912 - val_loss: 0.0923 - val_acc: 0.9804\n",
      "Epoch 11/20\n",
      "60000/60000 [==============================] - 2s - loss: 0.0268 - acc: 0.9925 - val_loss: 0.0963 - val_acc: 0.9825\n",
      "Epoch 12/20\n",
      "60000/60000 [==============================] - 2s - loss: 0.0225 - acc: 0.9933 - val_loss: 0.1022 - val_acc: 0.9818\n",
      "Epoch 13/20\n",
      "60000/60000 [==============================] - 2s - loss: 0.0225 - acc: 0.9936 - val_loss: 0.1168 - val_acc: 0.9807\n",
      "Epoch 14/20\n",
      "60000/60000 [==============================] - 2s - loss: 0.0212 - acc: 0.9941 - val_loss: 0.0955 - val_acc: 0.9818\n",
      "Epoch 15/20\n",
      "60000/60000 [==============================] - 2s - loss: 0.0204 - acc: 0.9942 - val_loss: 0.1009 - val_acc: 0.9843\n",
      "Epoch 16/20\n",
      "60000/60000 [==============================] - 2s - loss: 0.0197 - acc: 0.9947 - val_loss: 0.0971 - val_acc: 0.9840\n",
      "Epoch 17/20\n",
      "60000/60000 [==============================] - 2s - loss: 0.0176 - acc: 0.9951 - val_loss: 0.1082 - val_acc: 0.9837\n",
      "Epoch 18/20\n",
      "60000/60000 [==============================] - 2s - loss: 0.0183 - acc: 0.9951 - val_loss: 0.1377 - val_acc: 0.9804\n",
      "Epoch 19/20\n",
      "60000/60000 [==============================] - 2s - loss: 0.0164 - acc: 0.9957 - val_loss: 0.1137 - val_acc: 0.9831\n",
      "Epoch 20/20\n",
      "60000/60000 [==============================] - 2s - loss: 0.0174 - acc: 0.9954 - val_loss: 0.1129 - val_acc: 0.9833\n"
     ]
    }
   ],
   "source": [
    "history = model.fit(X_train, Y_train,\n",
    "                    batch_size=batch_size, nb_epoch=nb_epoch,\n",
    "                    verbose=1, validation_data=(X_test, Y_test))"
   ]
  },
  {
   "cell_type": "code",
   "execution_count": 7,
   "metadata": {},
   "outputs": [
    {
     "name": "stdout",
     "output_type": "stream",
     "text": [
      "Test score: 0.112870209246\n",
      "Test accuracy: 0.9833\n"
     ]
    }
   ],
   "source": [
    "score = model.evaluate(X_test, Y_test, verbose=0)\n",
    "print('Test score:', score[0])\n",
    "print('Test accuracy:', score[1])"
   ]
  },
  {
   "cell_type": "code",
   "execution_count": null,
   "metadata": {
    "collapsed": true
   },
   "outputs": [],
   "source": []
  },
  {
   "cell_type": "code",
   "execution_count": null,
   "metadata": {
    "collapsed": true
   },
   "outputs": [],
   "source": []
  }
 ],
 "metadata": {
  "kernelspec": {
   "display_name": "Python 3",
   "language": "python",
   "name": "python3"
  },
  "language_info": {
   "codemirror_mode": {
    "name": "ipython",
    "version": 3
   },
   "file_extension": ".py",
   "mimetype": "text/x-python",
   "name": "python",
   "nbconvert_exporter": "python",
   "pygments_lexer": "ipython3",
   "version": "3.6.4"
  }
 },
 "nbformat": 4,
 "nbformat_minor": 1
}
