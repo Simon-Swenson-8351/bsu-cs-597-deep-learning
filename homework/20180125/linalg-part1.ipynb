{
 "cells": [
  {
   "cell_type": "code",
   "execution_count": 16,
   "metadata": {},
   "outputs": [
    {
     "name": "stdout",
     "output_type": "stream",
     "text": [
      "A =  [[21 22 23]\n",
      " [24 25 26]\n",
      " [27 28 29]]\n",
      "A^T =  [[21 24 27]\n",
      " [22 25 28]\n",
      " [23 26 29]]\n",
      "AB =  [[2250 2316 2382]\n",
      " [2556 2631 2706]\n",
      " [2862 2946 3030]]\n",
      "BA =  [[2310 2406 2502]\n",
      " [2526 2631 2736]\n",
      " [2742 2856 2970]]\n",
      "(AB)C =  [[306108 313056 320004]\n",
      " [347742 355635 363528]\n",
      " [389376 398214 407052]]\n",
      "A(BC) =  [[306108 313056 320004]\n",
      " [347742 355635 363528]\n",
      " [389376 398214 407052]]\n"
     ]
    }
   ],
   "source": [
    "import numpy as np\n",
    "import pandas as pd\n",
    "\n",
    "# Create a 3x3 matrix\n",
    "A = np.arange(21, 30).reshape(3, 3)\n",
    "\n",
    "# Print the matrix\n",
    "print('A = ', A)\n",
    "\n",
    "# Take the transpose\n",
    "print('A^T = ', A.transpose())\n",
    "\n",
    "B = np.arange(31, 40).reshape(3, 3)\n",
    "\n",
    "# Matrix dot multiplication\n",
    "AB = A.dot(B)\n",
    "BA = B.dot(A)\n",
    "print('AB = ', AB)\n",
    "print('BA = ', BA)\n",
    "\n",
    "C = np.arange(41, 50).reshape(3, 3)\n",
    "\n",
    "# Associativity holds\n",
    "temp1 = (A.dot(B)).dot(C)\n",
    "temp2 = A.dot(B.dot(C))\n",
    "print('(AB)C = ', temp1)\n",
    "print('A(BC) = ', temp2)"
   ]
  },
  {
   "cell_type": "code",
   "execution_count": 23,
   "metadata": {
    "scrolled": true
   },
   "outputs": [
    {
     "name": "stdout",
     "output_type": "stream",
     "text": [
      "arr =  [[100 101 102 103]\n",
      " [104 105 106 107]\n",
      " [108 109 110 111]\n",
      " [112 113 114 115]]\n",
      "det(arr) =  -2.42338070084e-27\n",
      "arr1 =  [[ 5  6  7  8]\n",
      " [ 9 10 11 12]\n",
      " [13 14 15 16]\n",
      " [17 18 19 20]]\n",
      "1.37557620348e-29\n",
      "arr1^-1 =  [[ -9.68516049e+14   1.74332889e+15  -5.81109629e+14  -1.93703210e+14]\n",
      " [  1.96931597e+15  -3.24452876e+15   5.81109629e+14   6.94103168e+14]\n",
      " [ -1.03308379e+15   1.25907086e+15   5.81109629e+14  -8.07096707e+14]\n",
      " [  3.22838683e+13   2.42129012e+14  -5.81109629e+14   3.06696749e+14]]\n"
     ]
    }
   ],
   "source": [
    "# Create a 4x4 matrix\n",
    "arr = np.arange(100, 116).reshape(4, 4)\n",
    "print('arr = ', arr)\n",
    "\n",
    "# Find the determinant\n",
    "# Website's answer (something e-31) is different from mine (something e-27), but output is close to 0. Seems like a\n",
    "# floating point rounding error.\n",
    "print('det(arr) = ', np.linalg.det(arr))\n",
    "\n",
    "arr1 = np.arange(5, 21).reshape(4, 4)\n",
    "\n",
    "# Find the inverse\n",
    "print('arr1 = ', arr1)\n",
    "print('arr1^-1 = ', np.linalg.inv(arr1))\n",
    "# Inverse has very large numbers. This seems to be another floating point rounding error. Wolfram Alpha says the matrix\n",
    "# is singular (not invertible)."
   ]
  },
  {
   "cell_type": "code",
   "execution_count": 30,
   "metadata": {},
   "outputs": [
    {
     "name": "stdout",
     "output_type": "stream",
     "text": [
      "[[ -2.59951184e-04   1.53102522e-04  -6.98603725e-05   6.57605847e-01\n",
      "    4.00767706e-01   1.07696279e-01]]\n"
     ]
    }
   ],
   "source": [
    "Df = pd.read_csv('baseball.csv')\n",
    "Df1 = Df.head(14)\n",
    "\n",
    "X = Df1[['RS', 'RA', 'W', 'OBP', 'SLG', 'BA']]\n",
    "Y = Df1['OOBP']\n",
    "\n",
    "X = np.asmatrix(X)\n",
    "x = np.transpose(X)\n",
    "T = x.dot(X)\n",
    "inv = np.linalg.inv(T)\n",
    "theta = (inv.dot(X.T)).dot(Y)\n",
    "print(theta)"
   ]
  },
  {
   "cell_type": "code",
   "execution_count": 32,
   "metadata": {},
   "outputs": [
    {
     "name": "stdout",
     "output_type": "stream",
     "text": [
      "Eigenvalues and eigenvectors:  (array([  1.61168440e+01,  -1.11684397e+00,  -1.30367773e-15]), array([[-0.23197069, -0.78583024,  0.40824829],\n",
      "       [-0.52532209, -0.08675134, -0.81649658],\n",
      "       [-0.8186735 ,  0.61232756,  0.40824829]]))\n"
     ]
    }
   ],
   "source": [
    "arr = np.arange(1, 10).reshape(3, 3)\n",
    "\n",
    "print('Eigenvalues and eigenvectors: ', np.linalg.eig(arr))"
   ]
  }
 ],
 "metadata": {
  "kernelspec": {
   "display_name": "Python 3",
   "language": "python",
   "name": "python3"
  },
  "language_info": {
   "codemirror_mode": {
    "name": "ipython",
    "version": 3
   },
   "file_extension": ".py",
   "mimetype": "text/x-python",
   "name": "python",
   "nbconvert_exporter": "python",
   "pygments_lexer": "ipython3",
   "version": "3.6.4"
  }
 },
 "nbformat": 4,
 "nbformat_minor": 2
}
